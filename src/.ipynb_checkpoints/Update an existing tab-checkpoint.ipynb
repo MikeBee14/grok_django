{
 "cells": [
  {
   "cell_type": "code",
   "execution_count": 1,
   "id": "12052c36",
   "metadata": {},
   "outputs": [],
   "source": [
    "import django\n",
    "django.setup()\n",
    "\n",
    "from django.test import RequestFactory\n",
    "from organizer.models import Tag\n",
    "from organizer.serializers import StartupSerializer, TagSerializer "
   ]
  },
  {
   "cell_type": "code",
   "execution_count": 2,
   "id": "4e4b39cd",
   "metadata": {},
   "outputs": [],
   "source": [
    "fake_request = RequestFactory().get(\"api/v1/tag/\")"
   ]
  },
  {
   "cell_type": "code",
   "execution_count": 3,
   "id": "ace5614e",
   "metadata": {},
   "outputs": [],
   "source": [
    "tag, created = Tag.objects.get_or_create(\n",
    "    slug=\"django\",\n",
    "    defaults={\n",
    "        \"name\": \"django\",\n",
    "    }\n",
    ")"
   ]
  },
  {
   "cell_type": "code",
   "execution_count": null,
   "id": "6a5c167b",
   "metadata": {},
   "outputs": [],
   "source": [
    "s_tag = TagSerializer(\n",
    "    tag,\n",
    "    data={\n",
    "        \"name\": \"djan\"\n",
    "    }\n",
    ")"
   ]
  },
  {
   "cell_type": "code",
   "execution_count": null,
   "id": "686b81be",
   "metadata": {},
   "outputs": [],
   "source": [
    "s_tag.errors"
   ]
  },
  {
   "cell_type": "code",
   "execution_count": null,
   "id": "57e23598",
   "metadata": {},
   "outputs": [],
   "source": [
    "Tag.objects.filter(name=\"new_tag\").exists()"
   ]
  },
  {
   "cell_type": "code",
   "execution_count": null,
   "id": "3ce351fd",
   "metadata": {},
   "outputs": [],
   "source": [
    "s_tag.save()"
   ]
  },
  {
   "cell_type": "code",
   "execution_count": null,
   "id": "cc9b37a4",
   "metadata": {},
   "outputs": [],
   "source": [
    "Tag.objects.filter(name=\"new_tag\").exists()"
   ]
  },
  {
   "cell_type": "code",
   "execution_count": null,
   "id": "2c00f363",
   "metadata": {},
   "outputs": [],
   "source": [
    "s_tag = TagSerializer(\n",
    "    data={},\n",
    "    context={\"request\": fake_request}\n",
    ")"
   ]
  },
  {
   "cell_type": "code",
   "execution_count": null,
   "id": "6bf86c8c",
   "metadata": {},
   "outputs": [],
   "source": [
    "s_tag.is_valid()"
   ]
  },
  {
   "cell_type": "code",
   "execution_count": null,
   "id": "d245ff70",
   "metadata": {},
   "outputs": [],
   "source": [
    "s_tag.errors"
   ]
  },
  {
   "cell_type": "code",
   "execution_count": null,
   "id": "15e43e58",
   "metadata": {},
   "outputs": [],
   "source": [
    "s_tag = TagSerializer(\n",
    "    data={\n",
    "        \"name\": 'newer_tag',\n",
    "        \"ignored\": \"this vallue is ignored\"\n",
    "    },\n",
    "    context={\"request\": fake_request}\n",
    ")"
   ]
  },
  {
   "cell_type": "code",
   "execution_count": null,
   "id": "5c2cecb6",
   "metadata": {},
   "outputs": [],
   "source": [
    "s_tag.is_valid()"
   ]
  },
  {
   "cell_type": "code",
   "execution_count": null,
   "id": "802864a0",
   "metadata": {},
   "outputs": [],
   "source": [
    "s_tag.errors"
   ]
  },
  {
   "cell_type": "code",
   "execution_count": null,
   "id": "b430427f",
   "metadata": {},
   "outputs": [],
   "source": [
    "s_tag.save()"
   ]
  },
  {
   "cell_type": "code",
   "execution_count": null,
   "id": "def9318c",
   "metadata": {},
   "outputs": [],
   "source": [
    "s_startup = StartupSerializer(\n",
    "    data=dict(\n",
    "        name=\"JamBon Software LLC\",\n",
    "        slug=:jambon-software-\n",
    "    )\n",
    ")"
   ]
  }
 ],
 "metadata": {
  "kernelspec": {
   "display_name": "Python 3 (ipykernel)",
   "language": "python",
   "name": "python3"
  },
  "language_info": {
   "codemirror_mode": {
    "name": "ipython",
    "version": 3
   },
   "file_extension": ".py",
   "mimetype": "text/x-python",
   "name": "python",
   "nbconvert_exporter": "python",
   "pygments_lexer": "ipython3",
   "version": "3.7.1"
  }
 },
 "nbformat": 4,
 "nbformat_minor": 5
}
