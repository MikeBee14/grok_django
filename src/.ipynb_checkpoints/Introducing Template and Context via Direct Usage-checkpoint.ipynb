{
 "cells": [
  {
   "cell_type": "code",
   "execution_count": 1,
   "id": "7f28cc92",
   "metadata": {},
   "outputs": [],
   "source": [
    "import django\n",
    "django.setup()\n",
    "from django.template import Context, Template"
   ]
  },
  {
   "cell_type": "code",
   "execution_count": 2,
   "id": "06bbb8b7",
   "metadata": {},
   "outputs": [],
   "source": [
    "template = Template(\"{{ superhero }} is the very best superhero.\")"
   ]
  },
  {
   "cell_type": "code",
   "execution_count": 3,
   "id": "fe4d3952",
   "metadata": {},
   "outputs": [
    {
     "data": {
      "text/plain": [
       "django.template.base.Template"
      ]
     },
     "execution_count": 3,
     "metadata": {},
     "output_type": "execute_result"
    }
   ],
   "source": [
    "type(template)"
   ]
  },
  {
   "cell_type": "code",
   "execution_count": 5,
   "id": "c4c5703f",
   "metadata": {},
   "outputs": [
    {
     "data": {
      "text/plain": [
       "'batman is the very best superhero.'"
      ]
     },
     "execution_count": 5,
     "metadata": {},
     "output_type": "execute_result"
    }
   ],
   "source": [
    "context = Context({\"superhero\": \"batman\"})\n",
    "template.render(context)"
   ]
  },
  {
   "cell_type": "code",
   "execution_count": 7,
   "id": "e57d3770",
   "metadata": {},
   "outputs": [
    {
     "data": {
      "text/plain": [
       "'Wonder Woman is the very best superhero.'"
      ]
     },
     "execution_count": 7,
     "metadata": {},
     "output_type": "execute_result"
    }
   ],
   "source": [
    "superhero = \"wonder woman\"\n",
    "f\"{superhero.title()} is the very best superhero.\""
   ]
  },
  {
   "cell_type": "code",
   "execution_count": 8,
   "id": "e3dd5794",
   "metadata": {},
   "outputs": [],
   "source": [
    "template = Template(\"{{ superhero|title }} is the very best superhero.\")"
   ]
  },
  {
   "cell_type": "code",
   "execution_count": 9,
   "id": "76dc1c71",
   "metadata": {},
   "outputs": [
    {
     "data": {
      "text/plain": [
       "'Batman is the very best superhero.'"
      ]
     },
     "execution_count": 9,
     "metadata": {},
     "output_type": "execute_result"
    }
   ],
   "source": [
    "template.render(context)"
   ]
  },
  {
   "cell_type": "code",
   "execution_count": 10,
   "id": "ca47bf3e",
   "metadata": {},
   "outputs": [
    {
     "data": {
      "text/plain": [
       "'Superman is the very best superhero.'"
      ]
     },
     "execution_count": 10,
     "metadata": {},
     "output_type": "execute_result"
    }
   ],
   "source": [
    "template.render(Context({\"superhero\": \"superman\"}))"
   ]
  },
  {
   "cell_type": "code",
   "execution_count": 11,
   "id": "8c5839b5",
   "metadata": {},
   "outputs": [
    {
     "data": {
      "text/plain": [
       "' is the very best superhero.'"
      ]
     },
     "execution_count": 11,
     "metadata": {},
     "output_type": "execute_result"
    }
   ],
   "source": [
    "template.render(Context())"
   ]
  },
  {
   "cell_type": "code",
   "execution_count": 14,
   "id": "6974d3c1",
   "metadata": {},
   "outputs": [
    {
     "name": "stdout",
     "output_type": "stream",
     "text": [
      ")!\n",
      "she said \n",
      "as she jumped intho her convertible boat\n",
      "and drove off with her pineapple\n",
      "\n"
     ]
    }
   ],
   "source": [
    "template = Template(\n",
    "    \"{{ ml.exclaim }}!\\n\"\n",
    "    \"she said {{ ml.adverb }}\\n\"\n",
    "    \"as she jumped intho her convertible {{ m1.noun1 }}\\n\"\n",
    "    \"and drove off with her {{ m1.noun2 }}\\n\"\n",
    ")\n",
    "mad_lib = {\n",
    "    \"exclaim\": \"Ouch\",\n",
    "    \"adverb\": \"dutifully\",\n",
    "    \"noun1\": \"boat\",\n",
    "    \"noun2\": \"pineapple\",\n",
    "}\n",
    "context = Context({\"m1\": mad_lib})\n",
    "print(template.render(context))"
   ]
  },
  {
   "cell_type": "code",
   "execution_count": null,
   "id": "fe27ea85",
   "metadata": {},
   "outputs": [],
   "source": []
  }
 ],
 "metadata": {
  "kernelspec": {
   "display_name": "Python 3 (ipykernel)",
   "language": "python",
   "name": "python3"
  },
  "language_info": {
   "codemirror_mode": {
    "name": "ipython",
    "version": 3
   },
   "file_extension": ".py",
   "mimetype": "text/x-python",
   "name": "python",
   "nbconvert_exporter": "python",
   "pygments_lexer": "ipython3",
   "version": "3.7.1"
  }
 },
 "nbformat": 4,
 "nbformat_minor": 5
}
