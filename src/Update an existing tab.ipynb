{
 "cells": [
  {
   "cell_type": "code",
   "execution_count": 1,
   "id": "12052c36",
   "metadata": {},
   "outputs": [],
   "source": [
    "import django\n",
    "django.setup()\n",
    "\n",
    "from django.test import RequestFactory\n",
    "from organizer.models import Tag\n",
    "from organizer.serializers import StartupSerializer, TagSerializer "
   ]
  },
  {
   "cell_type": "code",
   "execution_count": 2,
   "id": "4e4b39cd",
   "metadata": {},
   "outputs": [],
   "source": [
    "fake_request = RequestFactory().get(\"api/v1/tag/\")"
   ]
  },
  {
   "cell_type": "code",
   "execution_count": 3,
   "id": "ace5614e",
   "metadata": {},
   "outputs": [],
   "source": [
    "tag, created = Tag.objects.get_or_create(\n",
    "    slug=\"django\",\n",
    "    defaults={\n",
    "        \"name\": \"django\",\n",
    "    }\n",
    ")"
   ]
  },
  {
   "cell_type": "code",
   "execution_count": 4,
   "id": "6a5c167b",
   "metadata": {},
   "outputs": [],
   "source": [
    "s_tag = TagSerializer(\n",
    "    tag,\n",
    "    data={\n",
    "        \"name\": \"django!\",\n",
    "    },\n",
    "    context={\"request\": fake_request}\n",
    ")"
   ]
  },
  {
   "cell_type": "code",
   "execution_count": 5,
   "id": "686b81be",
   "metadata": {},
   "outputs": [
    {
     "data": {
      "text/plain": [
       "True"
      ]
     },
     "execution_count": 5,
     "metadata": {},
     "output_type": "execute_result"
    }
   ],
   "source": [
    "s_tag.is_valid()"
   ]
  },
  {
   "cell_type": "code",
   "execution_count": 6,
   "id": "57e23598",
   "metadata": {},
   "outputs": [
    {
     "data": {
      "text/plain": [
       "<Tag: django!>"
      ]
     },
     "execution_count": 6,
     "metadata": {},
     "output_type": "execute_result"
    }
   ],
   "source": [
    "s_tag.save()"
   ]
  },
  {
   "cell_type": "code",
   "execution_count": 8,
   "id": "3ce351fd",
   "metadata": {},
   "outputs": [],
   "source": [
    "tag.refresh_from_db()"
   ]
  },
  {
   "cell_type": "code",
   "execution_count": 9,
   "id": "cc9b37a4",
   "metadata": {},
   "outputs": [
    {
     "data": {
      "text/plain": [
       "'django!'"
      ]
     },
     "execution_count": 9,
     "metadata": {},
     "output_type": "execute_result"
    }
   ],
   "source": [
    "tag.name"
   ]
  },
  {
   "cell_type": "code",
   "execution_count": 10,
   "id": "2c00f363",
   "metadata": {},
   "outputs": [
    {
     "data": {
      "text/plain": [
       "'django'"
      ]
     },
     "execution_count": 10,
     "metadata": {},
     "output_type": "execute_result"
    }
   ],
   "source": [
    "tag.slug"
   ]
  },
  {
   "cell_type": "code",
   "execution_count": 11,
   "id": "6bf86c8c",
   "metadata": {},
   "outputs": [],
   "source": [
    "s_tag = TagSerializer(\n",
    "    tag,\n",
    "    data={\n",
    "        \"slug\": \"hendrix\",\n",
    "        \"ignored\": \"this won't cause problems\"\n",
    "    },\n",
    "    context={\"request\": fake_request},\n",
    ")"
   ]
  },
  {
   "cell_type": "code",
   "execution_count": 14,
   "id": "d245ff70",
   "metadata": {},
   "outputs": [
    {
     "data": {
      "text/plain": [
       "<bound method BaseSerializer.is_valid of TagSerializer(<Tag: django!>, context={'request': <WSGIRequest: GET '/apiv1/tag/'>}, data={'slug': 'hendrix', 'ignored': \"this won't cause problems\"}):\n",
       "    id = IntegerField(label='ID', read_only=True)\n",
       "    name = CharField(max_length=31, validators=[<UniqueValidator(queryset=Tag.objects.all())>])\n",
       "    slug = SlugField(help_text='A label for URL config.', read_only=True)>"
      ]
     },
     "execution_count": 14,
     "metadata": {},
     "output_type": "execute_result"
    }
   ],
   "source": [
    "s_tag.is_valid"
   ]
  },
  {
   "cell_type": "code",
   "execution_count": 15,
   "id": "15e43e58",
   "metadata": {},
   "outputs": [
    {
     "ename": "AssertionError",
     "evalue": "You must call `.is_valid()` before accessing `.errors`.",
     "output_type": "error",
     "traceback": [
      "\u001b[0;31m---------------------------------------------------------------------------\u001b[0m",
      "\u001b[0;31mAssertionError\u001b[0m                            Traceback (most recent call last)",
      "\u001b[0;32m/tmp/ipykernel_34/977012471.py\u001b[0m in \u001b[0;36m<module>\u001b[0;34m\u001b[0m\n\u001b[0;32m----> 1\u001b[0;31m \u001b[0ms_tag\u001b[0m\u001b[0;34m.\u001b[0m\u001b[0merrors\u001b[0m\u001b[0;34m\u001b[0m\u001b[0;34m\u001b[0m\u001b[0m\n\u001b[0m",
      "\u001b[0;32m/usr/local/lib/python3.7/site-packages/rest_framework/serializers.py\u001b[0m in \u001b[0;36merrors\u001b[0;34m(self)\u001b[0m\n\u001b[1;32m    563\u001b[0m     \u001b[0;34m@\u001b[0m\u001b[0mproperty\u001b[0m\u001b[0;34m\u001b[0m\u001b[0;34m\u001b[0m\u001b[0m\n\u001b[1;32m    564\u001b[0m     \u001b[0;32mdef\u001b[0m \u001b[0merrors\u001b[0m\u001b[0;34m(\u001b[0m\u001b[0mself\u001b[0m\u001b[0;34m)\u001b[0m\u001b[0;34m:\u001b[0m\u001b[0;34m\u001b[0m\u001b[0;34m\u001b[0m\u001b[0m\n\u001b[0;32m--> 565\u001b[0;31m         \u001b[0mret\u001b[0m \u001b[0;34m=\u001b[0m \u001b[0msuper\u001b[0m\u001b[0;34m(\u001b[0m\u001b[0mSerializer\u001b[0m\u001b[0;34m,\u001b[0m \u001b[0mself\u001b[0m\u001b[0;34m)\u001b[0m\u001b[0;34m.\u001b[0m\u001b[0merrors\u001b[0m\u001b[0;34m\u001b[0m\u001b[0;34m\u001b[0m\u001b[0m\n\u001b[0m\u001b[1;32m    566\u001b[0m         \u001b[0;32mif\u001b[0m \u001b[0misinstance\u001b[0m\u001b[0;34m(\u001b[0m\u001b[0mret\u001b[0m\u001b[0;34m,\u001b[0m \u001b[0mlist\u001b[0m\u001b[0;34m)\u001b[0m \u001b[0;32mand\u001b[0m \u001b[0mlen\u001b[0m\u001b[0;34m(\u001b[0m\u001b[0mret\u001b[0m\u001b[0;34m)\u001b[0m \u001b[0;34m==\u001b[0m \u001b[0;36m1\u001b[0m \u001b[0;32mand\u001b[0m \u001b[0mgetattr\u001b[0m\u001b[0;34m(\u001b[0m\u001b[0mret\u001b[0m\u001b[0;34m[\u001b[0m\u001b[0;36m0\u001b[0m\u001b[0;34m]\u001b[0m\u001b[0;34m,\u001b[0m \u001b[0;34m'code'\u001b[0m\u001b[0;34m,\u001b[0m \u001b[0;32mNone\u001b[0m\u001b[0;34m)\u001b[0m \u001b[0;34m==\u001b[0m \u001b[0;34m'null'\u001b[0m\u001b[0;34m:\u001b[0m\u001b[0;34m\u001b[0m\u001b[0;34m\u001b[0m\u001b[0m\n\u001b[1;32m    567\u001b[0m             \u001b[0;31m# Edge case. Provide a more descriptive error than\u001b[0m\u001b[0;34m\u001b[0m\u001b[0;34m\u001b[0m\u001b[0;34m\u001b[0m\u001b[0m\n",
      "\u001b[0;32m/usr/local/lib/python3.7/site-packages/rest_framework/serializers.py\u001b[0m in \u001b[0;36merrors\u001b[0;34m(self)\u001b[0m\n\u001b[1;32m    271\u001b[0m         \u001b[0;32mif\u001b[0m \u001b[0;32mnot\u001b[0m \u001b[0mhasattr\u001b[0m\u001b[0;34m(\u001b[0m\u001b[0mself\u001b[0m\u001b[0;34m,\u001b[0m \u001b[0;34m'_errors'\u001b[0m\u001b[0;34m)\u001b[0m\u001b[0;34m:\u001b[0m\u001b[0;34m\u001b[0m\u001b[0;34m\u001b[0m\u001b[0m\n\u001b[1;32m    272\u001b[0m             \u001b[0mmsg\u001b[0m \u001b[0;34m=\u001b[0m \u001b[0;34m'You must call `.is_valid()` before accessing `.errors`.'\u001b[0m\u001b[0;34m\u001b[0m\u001b[0;34m\u001b[0m\u001b[0m\n\u001b[0;32m--> 273\u001b[0;31m             \u001b[0;32mraise\u001b[0m \u001b[0mAssertionError\u001b[0m\u001b[0;34m(\u001b[0m\u001b[0mmsg\u001b[0m\u001b[0;34m)\u001b[0m\u001b[0;34m\u001b[0m\u001b[0;34m\u001b[0m\u001b[0m\n\u001b[0m\u001b[1;32m    274\u001b[0m         \u001b[0;32mreturn\u001b[0m \u001b[0mself\u001b[0m\u001b[0;34m.\u001b[0m\u001b[0m_errors\u001b[0m\u001b[0;34m\u001b[0m\u001b[0;34m\u001b[0m\u001b[0m\n\u001b[1;32m    275\u001b[0m \u001b[0;34m\u001b[0m\u001b[0m\n",
      "\u001b[0;31mAssertionError\u001b[0m: You must call `.is_valid()` before accessing `.errors`."
     ]
    }
   ],
   "source": [
    "s_tag.errors"
   ]
  },
  {
   "cell_type": "code",
   "execution_count": 16,
   "id": "5c2cecb6",
   "metadata": {},
   "outputs": [],
   "source": [
    "s_tag = TagSerializer(\n",
    "    tag,\n",
    "    data={\n",
    "        \"slug\": \"hendrix\",\n",
    "        \"ignored\": \"this won't cause problems\"\n",
    "    },\n",
    "    partial=True,\n",
    "    context={\"request\": fake_request},\n",
    ")"
   ]
  },
  {
   "cell_type": "code",
   "execution_count": 17,
   "id": "802864a0",
   "metadata": {},
   "outputs": [
    {
     "data": {
      "text/plain": [
       "True"
      ]
     },
     "execution_count": 17,
     "metadata": {},
     "output_type": "execute_result"
    }
   ],
   "source": [
    "s_tag.is_valid()"
   ]
  },
  {
   "cell_type": "code",
   "execution_count": 18,
   "id": "b430427f",
   "metadata": {},
   "outputs": [
    {
     "data": {
      "text/plain": [
       "<Tag: django!>"
      ]
     },
     "execution_count": 18,
     "metadata": {},
     "output_type": "execute_result"
    }
   ],
   "source": [
    "s_tag.save()"
   ]
  },
  {
   "cell_type": "code",
   "execution_count": 19,
   "id": "def9318c",
   "metadata": {},
   "outputs": [],
   "source": [
    "tag.refresh_from_db()"
   ]
  },
  {
   "cell_type": "code",
   "execution_count": 20,
   "id": "af376795",
   "metadata": {},
   "outputs": [
    {
     "data": {
      "text/plain": [
       "'django'"
      ]
     },
     "execution_count": 20,
     "metadata": {},
     "output_type": "execute_result"
    }
   ],
   "source": [
    "tag.slug"
   ]
  },
  {
   "cell_type": "code",
   "execution_count": 23,
   "id": "51337d60",
   "metadata": {},
   "outputs": [
    {
     "data": {
      "text/plain": [
       "False"
      ]
     },
     "execution_count": 23,
     "metadata": {},
     "output_type": "execute_result"
    }
   ],
   "source": [
    "Tag._meta.get_field(\"slug\").editable"
   ]
  },
  {
   "cell_type": "code",
   "execution_count": 24,
   "id": "fe59e024",
   "metadata": {},
   "outputs": [
    {
     "data": {
      "text/plain": [
       "TagSerializer(<Tag: django!>, context={'request': <WSGIRequest: GET '/apiv1/tag/'>}, data={'slug': 'hendrix', 'ignored': \"this won't cause problems\"}, partial=True):\n",
       "    id = IntegerField(label='ID', read_only=True)\n",
       "    name = CharField(max_length=31, validators=[<UniqueValidator(queryset=Tag.objects.all())>])\n",
       "    slug = SlugField(help_text='A label for URL config.', read_only=True)"
      ]
     },
     "execution_count": 24,
     "metadata": {},
     "output_type": "execute_result"
    }
   ],
   "source": [
    "s_tag"
   ]
  },
  {
   "cell_type": "code",
   "execution_count": 26,
   "id": "f49b547c",
   "metadata": {},
   "outputs": [],
   "source": [
    "tag.name='django'\n",
    "tag.save()"
   ]
  },
  {
   "cell_type": "code",
   "execution_count": null,
   "id": "3173f8d8",
   "metadata": {},
   "outputs": [],
   "source": []
  }
 ],
 "metadata": {
  "kernelspec": {
   "display_name": "Python 3 (ipykernel)",
   "language": "python",
   "name": "python3"
  },
  "language_info": {
   "codemirror_mode": {
    "name": "ipython",
    "version": 3
   },
   "file_extension": ".py",
   "mimetype": "text/x-python",
   "name": "python",
   "nbconvert_exporter": "python",
   "pygments_lexer": "ipython3",
   "version": "3.7.1"
  }
 },
 "nbformat": 4,
 "nbformat_minor": 5
}
