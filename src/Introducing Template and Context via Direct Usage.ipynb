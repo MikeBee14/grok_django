{
 "cells": [
  {
   "cell_type": "code",
   "execution_count": 1,
   "id": "12052c36",
   "metadata": {},
   "outputs": [],
   "source": [
    "import django\n",
    "django.setup()\n",
    "from django.template import Context, Template"
   ]
  },
  {
   "cell_type": "code",
   "execution_count": 2,
   "id": "4e4b39cd",
   "metadata": {},
   "outputs": [],
   "source": [
    "template = Template(\"{{ superhero }} is the very best superhero.\")"
   ]
  },
  {
   "cell_type": "code",
   "execution_count": 3,
   "id": "ace5614e",
   "metadata": {},
   "outputs": [
    {
     "data": {
      "text/plain": [
       "django.template.base.Template"
      ]
     },
     "execution_count": 3,
     "metadata": {},
     "output_type": "execute_result"
    }
   ],
   "source": [
    "type(template)"
   ]
  },
  {
   "cell_type": "code",
   "execution_count": 5,
   "id": "6a5c167b",
   "metadata": {},
   "outputs": [
    {
     "data": {
      "text/plain": [
       "'batman is the very best superhero.'"
      ]
     },
     "execution_count": 5,
     "metadata": {},
     "output_type": "execute_result"
    }
   ],
   "source": [
    "context = Context({\"superhero\": \"batman\"})\n",
    "template.render(context)"
   ]
  },
  {
   "cell_type": "code",
   "execution_count": 7,
   "id": "686b81be",
   "metadata": {},
   "outputs": [
    {
     "data": {
      "text/plain": [
       "'Wonder Woman is the very best superhero.'"
      ]
     },
     "execution_count": 7,
     "metadata": {},
     "output_type": "execute_result"
    }
   ],
   "source": [
    "superhero = \"wonder woman\"\n",
    "f\"{superhero.title()} is the very best superhero.\""
   ]
  },
  {
   "cell_type": "code",
   "execution_count": 8,
   "id": "57e23598",
   "metadata": {},
   "outputs": [],
   "source": [
    "template = Template(\"{{ superhero|title }} is the very best superhero.\")"
   ]
  },
  {
   "cell_type": "code",
   "execution_count": 9,
   "id": "3ce351fd",
   "metadata": {},
   "outputs": [
    {
     "data": {
      "text/plain": [
       "'Batman is the very best superhero.'"
      ]
     },
     "execution_count": 9,
     "metadata": {},
     "output_type": "execute_result"
    }
   ],
   "source": [
    "template.render(context)"
   ]
  },
  {
   "cell_type": "code",
   "execution_count": 10,
   "id": "cc9b37a4",
   "metadata": {},
   "outputs": [
    {
     "data": {
      "text/plain": [
       "'Superman is the very best superhero.'"
      ]
     },
     "execution_count": 10,
     "metadata": {},
     "output_type": "execute_result"
    }
   ],
   "source": [
    "template.render(Context({\"superhero\": \"superman\"}))"
   ]
  },
  {
   "cell_type": "code",
   "execution_count": 11,
   "id": "2c00f363",
   "metadata": {},
   "outputs": [
    {
     "data": {
      "text/plain": [
       "' is the very best superhero.'"
      ]
     },
     "execution_count": 11,
     "metadata": {},
     "output_type": "execute_result"
    }
   ],
   "source": [
    "template.render(Context())"
   ]
  },
  {
   "cell_type": "code",
   "execution_count": 23,
   "id": "6bf86c8c",
   "metadata": {},
   "outputs": [
    {
     "name": "stdout",
     "output_type": "stream",
     "text": [
      "Ouch!\n",
      "she said dutifully\n",
      "as she jumped intho her convertible boat\n",
      "and drove off with her pineapple\n",
      "\n"
     ]
    }
   ],
   "source": [
    "template = Template(\n",
    "    \"{{ m1.exclaim }}!\\n\"    \n",
    "    \"she said {{ m1.adverb }}\\n\"    \n",
    "    \"as she jumped intho her convertible {{ m1.noun1 }}\\n\"\n",
    "    \"and drove off with her {{ m1.noun2 }}\\n\"\n",
    ")\n",
    "mad_lib = {\n",
    "    \"exclaim\": \"Ouch\",\n",
    "    \"adverb\": \"dutifully\",\n",
    "    \"noun1\": \"boat\",\n",
    "    \"noun2\": \"pineapple\",\n",
    "}\n",
    "context = Context({\"m1\": mad_lib})\n",
    "print(template.render(context))"
   ]
  },
  {
   "cell_type": "code",
   "execution_count": 24,
   "id": "d245ff70",
   "metadata": {},
   "outputs": [],
   "source": [
    "from django.template import loader"
   ]
  },
  {
   "cell_type": "code",
   "execution_count": 27,
   "id": "15e43e58",
   "metadata": {},
   "outputs": [
    {
     "ename": "TemplateDoesNotExist",
     "evalue": "tag/list.html",
     "output_type": "error",
     "traceback": [
      "\u001b[0;31m---------------------------------------------------------------------------\u001b[0m",
      "\u001b[0;31mTemplateDoesNotExist\u001b[0m                      Traceback (most recent call last)",
      "\u001b[0;32m/tmp/ipykernel_75/3551788689.py\u001b[0m in \u001b[0;36m<module>\u001b[0;34m\u001b[0m\n\u001b[0;32m----> 1\u001b[0;31m \u001b[0mtemplate\u001b[0m \u001b[0;34m=\u001b[0m \u001b[0mloader\u001b[0m\u001b[0;34m.\u001b[0m\u001b[0mget_template\u001b[0m\u001b[0;34m(\u001b[0m\u001b[0;34m\"tag/list.html\"\u001b[0m\u001b[0;34m)\u001b[0m\u001b[0;34m\u001b[0m\u001b[0;34m\u001b[0m\u001b[0m\n\u001b[0m",
      "\u001b[0;32m/usr/local/lib/python3.7/site-packages/django/template/loader.py\u001b[0m in \u001b[0;36mget_template\u001b[0;34m(template_name, using)\u001b[0m\n\u001b[1;32m     17\u001b[0m             \u001b[0mchain\u001b[0m\u001b[0;34m.\u001b[0m\u001b[0mappend\u001b[0m\u001b[0;34m(\u001b[0m\u001b[0me\u001b[0m\u001b[0;34m)\u001b[0m\u001b[0;34m\u001b[0m\u001b[0;34m\u001b[0m\u001b[0m\n\u001b[1;32m     18\u001b[0m \u001b[0;34m\u001b[0m\u001b[0m\n\u001b[0;32m---> 19\u001b[0;31m     \u001b[0;32mraise\u001b[0m \u001b[0mTemplateDoesNotExist\u001b[0m\u001b[0;34m(\u001b[0m\u001b[0mtemplate_name\u001b[0m\u001b[0;34m,\u001b[0m \u001b[0mchain\u001b[0m\u001b[0;34m=\u001b[0m\u001b[0mchain\u001b[0m\u001b[0;34m)\u001b[0m\u001b[0;34m\u001b[0m\u001b[0;34m\u001b[0m\u001b[0m\n\u001b[0m\u001b[1;32m     20\u001b[0m \u001b[0;34m\u001b[0m\u001b[0m\n\u001b[1;32m     21\u001b[0m \u001b[0;34m\u001b[0m\u001b[0m\n",
      "\u001b[0;31mTemplateDoesNotExist\u001b[0m: tag/list.html"
     ]
    }
   ],
   "source": [
    "template = loader.get_template(\"tag/list.html\")"
   ]
  },
  {
   "cell_type": "code",
   "execution_count": null,
   "id": "b430427f",
   "metadata": {},
   "outputs": [],
   "source": []
  }
 ],
 "metadata": {
  "kernelspec": {
   "display_name": "Python 3 (ipykernel)",
   "language": "python",
   "name": "python3"
  },
  "language_info": {
   "codemirror_mode": {
    "name": "ipython",
    "version": 3
   },
   "file_extension": ".py",
   "mimetype": "text/x-python",
   "name": "python",
   "nbconvert_exporter": "python",
   "pygments_lexer": "ipython3",
   "version": "3.7.1"
  }
 },
 "nbformat": 4,
 "nbformat_minor": 5
}
