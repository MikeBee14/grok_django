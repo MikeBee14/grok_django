{
 "cells": [
  {
   "cell_type": "code",
   "execution_count": 1,
   "id": "12052c36",
   "metadata": {},
   "outputs": [],
   "source": [
    "import django\n",
    "django.setup()\n",
    "\n",
    "from datetime import date\n",
    "from django.test import RequestFactory\n",
    "from organizer.models import Tag\n",
    "from organizer.serializers import StartupSerializer, TagSerializer "
   ]
  },
  {
   "cell_type": "code",
   "execution_count": 2,
   "id": "4e4b39cd",
   "metadata": {},
   "outputs": [],
   "source": [
    "fake_request = RequestFactory().get(\"api/v1/tag/\")"
   ]
  },
  {
   "cell_type": "code",
   "execution_count": 4,
   "id": "ace5614e",
   "metadata": {},
   "outputs": [],
   "source": [
    "data = {\"name\": \"new tag\"}\n",
    "s_tag = TagSerializer(\n",
    "    data=data,\n",
    "    context={\"request\": fake_request}\n",
    ")"
   ]
  },
  {
   "cell_type": "code",
   "execution_count": 5,
   "id": "6a5c167b",
   "metadata": {},
   "outputs": [
    {
     "data": {
      "text/plain": [
       "True"
      ]
     },
     "execution_count": 5,
     "metadata": {},
     "output_type": "execute_result"
    }
   ],
   "source": [
    "s_tag.is_valid()"
   ]
  },
  {
   "cell_type": "code",
   "execution_count": 7,
   "id": "686b81be",
   "metadata": {},
   "outputs": [
    {
     "data": {
      "text/plain": [
       "{}"
      ]
     },
     "execution_count": 7,
     "metadata": {},
     "output_type": "execute_result"
    }
   ],
   "source": [
    "s_tag.errors"
   ]
  },
  {
   "cell_type": "code",
   "execution_count": 8,
   "id": "57e23598",
   "metadata": {},
   "outputs": [
    {
     "data": {
      "text/plain": [
       "False"
      ]
     },
     "execution_count": 8,
     "metadata": {},
     "output_type": "execute_result"
    }
   ],
   "source": [
    "Tag.objects.filter(name=\"new_tag\").exists()"
   ]
  },
  {
   "cell_type": "code",
   "execution_count": 12,
   "id": "3ce351fd",
   "metadata": {},
   "outputs": [
    {
     "data": {
      "text/plain": [
       "<Tag: new tag>"
      ]
     },
     "execution_count": 12,
     "metadata": {},
     "output_type": "execute_result"
    }
   ],
   "source": [
    "s_tag.save()"
   ]
  },
  {
   "cell_type": "code",
   "execution_count": 13,
   "id": "cc9b37a4",
   "metadata": {},
   "outputs": [
    {
     "data": {
      "text/plain": [
       "False"
      ]
     },
     "execution_count": 13,
     "metadata": {},
     "output_type": "execute_result"
    }
   ],
   "source": [
    "Tag.objects.filter(name=\"new_tag\").exists()"
   ]
  },
  {
   "cell_type": "code",
   "execution_count": 14,
   "id": "2c00f363",
   "metadata": {},
   "outputs": [],
   "source": [
    "s_tag = TagSerializer(\n",
    "    data={},\n",
    "    context={\"request\": fake_request}\n",
    ")"
   ]
  },
  {
   "cell_type": "code",
   "execution_count": 15,
   "id": "6bf86c8c",
   "metadata": {},
   "outputs": [
    {
     "data": {
      "text/plain": [
       "False"
      ]
     },
     "execution_count": 15,
     "metadata": {},
     "output_type": "execute_result"
    }
   ],
   "source": [
    "s_tag.is_valid()"
   ]
  },
  {
   "cell_type": "code",
   "execution_count": 16,
   "id": "d245ff70",
   "metadata": {},
   "outputs": [
    {
     "data": {
      "text/plain": [
       "{'name': [ErrorDetail(string='This field is required.', code='required')]}"
      ]
     },
     "execution_count": 16,
     "metadata": {},
     "output_type": "execute_result"
    }
   ],
   "source": [
    "s_tag.errors"
   ]
  },
  {
   "cell_type": "code",
   "execution_count": 17,
   "id": "15e43e58",
   "metadata": {},
   "outputs": [],
   "source": [
    "s_tag = TagSerializer(\n",
    "    data={\n",
    "        \"name\": 'newer_tag',\n",
    "        \"ignored\": \"this vallue is ignored\"\n",
    "    },\n",
    "    context={\"request\": fake_request}\n",
    ")"
   ]
  },
  {
   "cell_type": "code",
   "execution_count": 18,
   "id": "5c2cecb6",
   "metadata": {},
   "outputs": [
    {
     "data": {
      "text/plain": [
       "True"
      ]
     },
     "execution_count": 18,
     "metadata": {},
     "output_type": "execute_result"
    }
   ],
   "source": [
    "s_tag.is_valid()"
   ]
  },
  {
   "cell_type": "code",
   "execution_count": 19,
   "id": "802864a0",
   "metadata": {},
   "outputs": [
    {
     "data": {
      "text/plain": [
       "{}"
      ]
     },
     "execution_count": 19,
     "metadata": {},
     "output_type": "execute_result"
    }
   ],
   "source": [
    "s_tag.errors"
   ]
  },
  {
   "cell_type": "code",
   "execution_count": 20,
   "id": "b430427f",
   "metadata": {},
   "outputs": [
    {
     "data": {
      "text/plain": [
       "<Tag: newer_tag>"
      ]
     },
     "execution_count": 20,
     "metadata": {},
     "output_type": "execute_result"
    }
   ],
   "source": [
    "s_tag.save()"
   ]
  },
  {
   "cell_type": "code",
   "execution_count": null,
   "id": "def9318c",
   "metadata": {},
   "outputs": [],
   "source": [
    "s_startup = StartupSerializer(\n",
    "    data=dict(\n",
    "        name=\"JamBon Software LLC\",\n",
    "        slug=:jambon-software-\n",
    "    )\n",
    ")"
   ]
  }
 ],
 "metadata": {
  "kernelspec": {
   "display_name": "Python 3 (ipykernel)",
   "language": "python",
   "name": "python3"
  },
  "language_info": {
   "codemirror_mode": {
    "name": "ipython",
    "version": 3
   },
   "file_extension": ".py",
   "mimetype": "text/x-python",
   "name": "python",
   "nbconvert_exporter": "python",
   "pygments_lexer": "ipython3",
   "version": "3.7.1"
  }
 },
 "nbformat": 4,
 "nbformat_minor": 5
}
