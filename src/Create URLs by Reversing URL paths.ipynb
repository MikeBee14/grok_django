{
 "cells": [
  {
   "cell_type": "code",
   "execution_count": 1,
   "id": "2a86c2ef",
   "metadata": {},
   "outputs": [],
   "source": [
    "import django\n",
    "django.setup()\n",
    "from django.urls import NoReverseMatch, reverse"
   ]
  },
  {
   "cell_type": "code",
   "execution_count": 2,
   "id": "f5b9a778",
   "metadata": {},
   "outputs": [
    {
     "data": {
      "text/plain": [
       "'/tag/'"
      ]
     },
     "execution_count": 2,
     "metadata": {},
     "output_type": "execute_result"
    }
   ],
   "source": [
    "reverse(\"tag_list\")"
   ]
  },
  {
   "cell_type": "code",
   "execution_count": 3,
   "id": "1bbdfc52",
   "metadata": {},
   "outputs": [
    {
     "name": "stdout",
     "output_type": "stream",
     "text": [
      "Reverse for 'tag_detail' with no arguments not found. 1 pattern(s) tried: ['tag/(?P<slug>[^/]+)/$']\n"
     ]
    }
   ],
   "source": [
    "try:\n",
    "    reverse(\"tag_detail\")\n",
    "except NoReverseMatch as err:\n",
    "    print(err)"
   ]
  },
  {
   "cell_type": "code",
   "execution_count": 4,
   "id": "8d04cf2c",
   "metadata": {},
   "outputs": [
    {
     "data": {
      "text/plain": [
       "'/tag/slugilicious/'"
      ]
     },
     "execution_count": 4,
     "metadata": {},
     "output_type": "execute_result"
    }
   ],
   "source": [
    "reverse(\n",
    "    \"tag_detail\",\n",
    "    kwargs={\n",
    "        \"slug\": \"slugilicious\"\n",
    "    }\n",
    ")"
   ]
  },
  {
   "cell_type": "code",
   "execution_count": 5,
   "id": "0d7261fb",
   "metadata": {},
   "outputs": [
    {
     "data": {
      "text/plain": [
       "'/blog/2002/8/now-recording/'"
      ]
     },
     "execution_count": 5,
     "metadata": {},
     "output_type": "execute_result"
    }
   ],
   "source": [
    "reverse(\n",
    "    \"post_detail\",\n",
    "    kwargs={\n",
    "        \"year\": 2002,\n",
    "        \"month\": 8,\n",
    "        \"slug\": \"now-recording\"\n",
    "    }\n",
    ")"
   ]
  },
  {
   "cell_type": "code",
   "execution_count": 7,
   "id": "15d69eff",
   "metadata": {},
   "outputs": [],
   "source": [
    "from django.template import Context, Template"
   ]
  },
  {
   "cell_type": "code",
   "execution_count": 8,
   "id": "48419fd1",
   "metadata": {},
   "outputs": [
    {
     "data": {
      "text/plain": [
       "'/tag/'"
      ]
     },
     "execution_count": 8,
     "metadata": {},
     "output_type": "execute_result"
    }
   ],
   "source": [
    "code = \"{% url 'tag_list' %}\"\n",
    "template = Template(code)\n",
    "template.render(Context())"
   ]
  },
  {
   "cell_type": "code",
   "execution_count": 9,
   "id": "f7670c84",
   "metadata": {},
   "outputs": [
    {
     "data": {
      "text/plain": [
       "'/tag/slugerific/'"
      ]
     },
     "execution_count": 9,
     "metadata": {},
     "output_type": "execute_result"
    }
   ],
   "source": [
    "code = \"{% url 'tag_detail' slug='slugerific' %}\"\n",
    "template = Template(code)\n",
    "template.render(Context())"
   ]
  },
  {
   "cell_type": "code",
   "execution_count": 10,
   "id": "80304d9e",
   "metadata": {},
   "outputs": [
    {
     "data": {
      "text/plain": [
       "'/blog/2018/8/numark/'"
      ]
     },
     "execution_count": 10,
     "metadata": {},
     "output_type": "execute_result"
    }
   ],
   "source": [
    "code = \"{% url 'post_detail' year=2018 month=8 slug='numark' %}\"\n",
    "template = Template(code)\n",
    "template.render(Context())"
   ]
  },
  {
   "cell_type": "code",
   "execution_count": null,
   "id": "1b6c049a",
   "metadata": {},
   "outputs": [],
   "source": []
  }
 ],
 "metadata": {
  "kernelspec": {
   "display_name": "Python 3 (ipykernel)",
   "language": "python",
   "name": "python3"
  },
  "language_info": {
   "codemirror_mode": {
    "name": "ipython",
    "version": 3
   },
   "file_extension": ".py",
   "mimetype": "text/x-python",
   "name": "python",
   "nbconvert_exporter": "python",
   "pygments_lexer": "ipython3",
   "version": "3.7.1"
  }
 },
 "nbformat": 4,
 "nbformat_minor": 5
}
